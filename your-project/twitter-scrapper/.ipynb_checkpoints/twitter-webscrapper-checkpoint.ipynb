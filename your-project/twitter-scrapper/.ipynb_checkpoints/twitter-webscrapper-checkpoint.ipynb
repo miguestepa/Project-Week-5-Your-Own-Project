{
 "cells": [
  {
   "cell_type": "code",
   "execution_count": 1,
   "metadata": {},
   "outputs": [
    {
     "name": "stderr",
     "output_type": "stream",
     "text": [
      "INFO: {'User-Agent': 'Mozilla/5.0 (compatible, MSIE 11, Windows NT 6.3; Trident/7.0; rv:11.0) like Gecko'}\n"
     ]
    }
   ],
   "source": [
    "from twitterscraper import query_tweets\n",
    "import datetime as dt\n",
    "import pandas as pd\n",
    "import time"
   ]
  },
  {
   "cell_type": "code",
   "execution_count": null,
   "metadata": {},
   "outputs": [],
   "source": [
    "day_delta = dt.timedelta(days=1)\n",
    "start_date = dt.date(2019, 1, 1)\n",
    "final_date = dt.date(2020, 1, 1) ##dummy date to avoid running whole code\n",
    "while start_date > final_date:\n",
    "    begin_date = start_date - 7*day_delta\n",
    "    end_date = start_date\n",
    "    \n",
    "    query = '\"Barcelona\" AND \"violencia\" OR \"crimen\" OR \"inseguridad\" OR \"delincuencia\" OR \"agresion\" OR \"delito\" OR \"crim\" OR \"inseguretat\" OR \"delinqüència\" OR \"agressió\" OR \"delicte\"'\n",
    "    tweets = query_tweets(query=query, begindate = begin_date, enddate = end_date)\n",
    "    \n",
    "    print(len(tweets), f' were retrieved for {begin_date} to {end_date}')\n",
    "    \n",
    "    df = pd.DataFrame(t.__dict__ for t in tweets)\n",
    "    df.to_csv(f'Tweets_{begin_date}_{end_date}.csv')\n",
    "    start_date -= 7*day_delta\n",
    "    time.sleep(60)"
   ]
  }
 ],
 "metadata": {
  "kernelspec": {
   "display_name": "Python 3",
   "language": "python",
   "name": "python3"
  },
  "language_info": {
   "codemirror_mode": {
    "name": "ipython",
    "version": 3
   },
   "file_extension": ".py",
   "mimetype": "text/x-python",
   "name": "python",
   "nbconvert_exporter": "python",
   "pygments_lexer": "ipython3",
   "version": "3.8.2"
  }
 },
 "nbformat": 4,
 "nbformat_minor": 4
}
