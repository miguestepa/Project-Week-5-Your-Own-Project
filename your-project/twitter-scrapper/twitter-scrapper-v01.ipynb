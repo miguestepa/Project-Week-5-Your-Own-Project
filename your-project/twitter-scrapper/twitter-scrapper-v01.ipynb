{
 "cells": [
  {
   "cell_type": "code",
   "execution_count": null,
   "metadata": {},
   "outputs": [],
   "source": [
    "https://twitter.com/search?q=(%23bolivia%20OR%20%23evo%20OR%20%23evomorales%20OR%20%23jeaninea%C3%B1ez%20OR%20%23a%C3%B1ez)%20until%3A2019-12-30%20since%3A2019-11-01&src=typed_query"
   ]
  }
 ],
 "metadata": {
  "kernelspec": {
   "display_name": "Python 3",
   "language": "python",
   "name": "python3"
  },
  "language_info": {
   "codemirror_mode": {
    "name": "ipython",
    "version": 3
   },
   "file_extension": ".py",
   "mimetype": "text/x-python",
   "name": "python",
   "nbconvert_exporter": "python",
   "pygments_lexer": "ipython3",
   "version": "3.8.2"
  }
 },
 "nbformat": 4,
 "nbformat_minor": 4
}
